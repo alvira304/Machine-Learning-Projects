{
 "cells": [
  {
   "cell_type": "code",
   "execution_count": 1,
   "id": "charitable-feelings",
   "metadata": {},
   "outputs": [],
   "source": [
    "#Importing required libraries\n",
    "import pandas as pd\n",
    "import numpy as np\n",
    "from sklearn import model_selection\n",
    "from sklearn.linear_model import LinearRegression\n",
    "import matplotlib.pyplot as plt"
   ]
  },
  {
   "cell_type": "code",
   "execution_count": 3,
   "id": "swiss-pressure",
   "metadata": {},
   "outputs": [
    {
     "data": {
      "text/html": [
       "<div>\n",
       "<style scoped>\n",
       "    .dataframe tbody tr th:only-of-type {\n",
       "        vertical-align: middle;\n",
       "    }\n",
       "\n",
       "    .dataframe tbody tr th {\n",
       "        vertical-align: top;\n",
       "    }\n",
       "\n",
       "    .dataframe thead th {\n",
       "        text-align: right;\n",
       "    }\n",
       "</style>\n",
       "<table border=\"1\" class=\"dataframe\">\n",
       "  <thead>\n",
       "    <tr style=\"text-align: right;\">\n",
       "      <th></th>\n",
       "      <th>Cases</th>\n",
       "      <th>Increasing_rate</th>\n",
       "      <th>Decreasing_rate</th>\n",
       "      <th>Time</th>\n",
       "    </tr>\n",
       "  </thead>\n",
       "  <tbody>\n",
       "    <tr>\n",
       "      <th>0</th>\n",
       "      <td>18</td>\n",
       "      <td>15.960</td>\n",
       "      <td>53.13</td>\n",
       "      <td>1121.8739</td>\n",
       "    </tr>\n",
       "    <tr>\n",
       "      <th>1</th>\n",
       "      <td>21</td>\n",
       "      <td>16.815</td>\n",
       "      <td>52.58</td>\n",
       "      <td>1131.5066</td>\n",
       "    </tr>\n",
       "    <tr>\n",
       "      <th>2</th>\n",
       "      <td>38</td>\n",
       "      <td>16.815</td>\n",
       "      <td>50.38</td>\n",
       "      <td>1135.9407</td>\n",
       "    </tr>\n",
       "    <tr>\n",
       "      <th>3</th>\n",
       "      <td>26</td>\n",
       "      <td>17.195</td>\n",
       "      <td>49.06</td>\n",
       "      <td>1136.3994</td>\n",
       "    </tr>\n",
       "    <tr>\n",
       "      <th>4</th>\n",
       "      <td>18</td>\n",
       "      <td>17.290</td>\n",
       "      <td>48.07</td>\n",
       "      <td>1137.0110</td>\n",
       "    </tr>\n",
       "    <tr>\n",
       "      <th>5</th>\n",
       "      <td>37</td>\n",
       "      <td>17.290</td>\n",
       "      <td>47.74</td>\n",
       "      <td>1137.4697</td>\n",
       "    </tr>\n",
       "    <tr>\n",
       "      <th>6</th>\n",
       "      <td>28</td>\n",
       "      <td>17.290</td>\n",
       "      <td>47.60</td>\n",
       "      <td>1141.4451</td>\n",
       "    </tr>\n",
       "    <tr>\n",
       "      <th>7</th>\n",
       "      <td>23</td>\n",
       "      <td>17.385</td>\n",
       "      <td>47.52</td>\n",
       "      <td>1146.7966</td>\n",
       "    </tr>\n",
       "    <tr>\n",
       "      <th>8</th>\n",
       "      <td>21</td>\n",
       "      <td>17.400</td>\n",
       "      <td>47.41</td>\n",
       "      <td>1149.3959</td>\n",
       "    </tr>\n",
       "    <tr>\n",
       "      <th>9</th>\n",
       "      <td>19</td>\n",
       "      <td>17.480</td>\n",
       "      <td>46.75</td>\n",
       "      <td>1163.4627</td>\n",
       "    </tr>\n",
       "  </tbody>\n",
       "</table>\n",
       "</div>"
      ],
      "text/plain": [
       "   Cases  Increasing_rate  Decreasing_rate       Time\n",
       "0     18           15.960            53.13  1121.8739\n",
       "1     21           16.815            52.58  1131.5066\n",
       "2     38           16.815            50.38  1135.9407\n",
       "3     26           17.195            49.06  1136.3994\n",
       "4     18           17.290            48.07  1137.0110\n",
       "5     37           17.290            47.74  1137.4697\n",
       "6     28           17.290            47.60  1141.4451\n",
       "7     23           17.385            47.52  1146.7966\n",
       "8     21           17.400            47.41  1149.3959\n",
       "9     19           17.480            46.75  1163.4627"
      ]
     },
     "execution_count": 3,
     "metadata": {},
     "output_type": "execute_result"
    }
   ],
   "source": [
    "#Importing and reading file using pandas\n",
    "df = pd.read_csv('lrdata.csv')\n",
    "df.head(10)"
   ]
  },
  {
   "cell_type": "code",
   "execution_count": 4,
   "id": "front-astronomy",
   "metadata": {},
   "outputs": [
    {
     "data": {
      "text/plain": [
       "Index(['Cases', 'Increasing_rate', 'Decreasing_rate', 'Time'], dtype='object')"
      ]
     },
     "execution_count": 4,
     "metadata": {},
     "output_type": "execute_result"
    }
   ],
   "source": [
    "df.columns"
   ]
  },
  {
   "cell_type": "code",
   "execution_count": 5,
   "id": "first-crazy",
   "metadata": {},
   "outputs": [],
   "source": [
    "#Using multi linear regression as the values are continuous where x are independent values and y is dependent value\n",
    "X = df[['Cases','Increasing_rate','Decreasing_rate']]\n",
    "Y = df['Time']"
   ]
  },
  {
   "cell_type": "code",
   "execution_count": 6,
   "id": "secure-secretary",
   "metadata": {},
   "outputs": [],
   "source": [
    "#Function named CasesReg for using linear regression model and training the model with given values\n",
    "def CasesReg(X,Y):\n",
    "        from sklearn.linear_model import LinearRegression\n",
    "        reg = LinearRegression()\n",
    "        reg.fit(X,Y)\n",
    "        return reg"
   ]
  },
  {
   "cell_type": "code",
   "execution_count": 8,
   "id": "statistical-ambassador",
   "metadata": {},
   "outputs": [],
   "source": [
    "#train_test_split is a function in Sklearn model selection for splitting data into two subsets\n",
    "#for training data and for testing data\n",
    "\n",
    "x_train, x_test, y_train, y_test = model_selection.train_test_split(X,Y)\n",
    "\n",
    "#Passing training data to my Linear regression model\n",
    "reg = CasesReg(x_train,y_train)"
   ]
  },
  {
   "cell_type": "code",
   "execution_count": 9,
   "id": "velvet-happening",
   "metadata": {},
   "outputs": [
    {
     "data": {
      "text/plain": [
       "array([ 1658.77326078,  7550.46675204, -3028.12436953, -5897.82727788,\n",
       "       34900.75500767,  7310.80107504, 13354.72122004,  3299.94547592,\n",
       "       24235.29601874, -9579.34518693, 34436.98618524, 24995.01857951,\n",
       "       21154.92642661, 10705.37748718,  7054.5378912 , 11909.3708749 ,\n",
       "       24379.84500373,  8729.25946673, 29170.0159235 , 15257.55517918,\n",
       "       16211.81329422,  7551.76758631, -1512.5762566 ,  3584.12911689,\n",
       "       34935.06152057,  4562.40714826, 15974.0751288 ,  8208.18330056,\n",
       "        6485.44308462, -9899.67318833, -1101.79533944,  3860.38963667,\n",
       "       23262.35807949, -1511.92583946,  1514.28686476, 18701.00469938,\n",
       "       15833.1541571 , 12397.8318086 ,  4201.68520138, 25693.26445733,\n",
       "        7545.9138321 , 16031.48371373,  2131.93026264, 17044.95255043,\n",
       "        8731.86113527, 19677.40917762, 18255.22133454,  6756.77455992,\n",
       "        1343.07999853, 17044.95255043, 18142.98189648, -1967.5667025 ,\n",
       "       24720.0184767 , 24974.85564835, 25310.6492528 , 13503.97949892,\n",
       "       -3657.95440664, 23446.32312948, -4489.09394718,  2722.21454206,\n",
       "       31646.12443123,  9280.33055736, 11382.85749635,  6143.44353817,\n",
       "       22666.42959058,   249.15603149,  -527.51681468, 17422.55944405,\n",
       "       37184.38126013, 36723.83096632, 27256.13429128,  2034.5707584 ,\n",
       "       13487.06865342,  2676.48207261, 31070.88921304, 11550.83641057,\n",
       "       -9436.74745335, 11691.38145465, 23108.22608583,  6131.54080667,\n",
       "        7290.63814387, 25169.90898563, 21036.13651188, 25273.46658184,\n",
       "         694.73671706, -8249.35235497, 38027.50183995,  9950.64106566,\n",
       "       18157.29107343, 22905.13151179, -2917.73474477, 27068.6575785 ,\n",
       "       25767.34079118, 22596.88243685, 14423.52927469,  7055.83872547,\n",
       "       29378.05386365, 36760.52605212, 12116.24983617, 14624.63394512,\n",
       "       37370.59066658,   210.90600772, 34149.59891767,  6532.71948491,\n",
       "        5003.35604129,  9964.08831877, 12047.88540114, 30031.27085992,\n",
       "       13529.91711478, 28238.64052373, 11892.4600294 , -3568.34477523,\n",
       "       33516.48069545, 37507.02998251,  9311.75345601, 17035.19629341,\n",
       "       21445.87950716,  7905.81917585, 37064.79907286, 24435.14576639,\n",
       "        8666.74878591, 17437.51903814, 14020.8451209 ,  5050.71896729,\n",
       "       -3465.53138114, 18142.33147934, 23238.93560646,  6894.27000069,\n",
       "       25159.11892767, 16153.20511621,  8044.53834338, 15627.71788549,\n",
       "       19700.49437525, 24729.12431658, 12211.11617233, 16135.54241548,\n",
       "        8064.42678503, 11244.06828367,  4843.933791  , 15266.66101906,\n",
       "        9974.49499292, 11897.89920378, 31207.72913632,  4553.30130838,\n",
       "        9277.54092501, 24769.83356273,  3587.38120256, 34915.1634638 ,\n",
       "       16150.60344767, 15107.04354569, 33047.01665168, 14374.91358484,\n",
       "        9829.35817976, 18683.2334982 , 30210.62020407, 17522.5898743 ,\n",
       "        2266.44791033, 27086.79215076,  -106.23759731, 14417.94255381,\n",
       "       14377.03788766, 25915.05513921, 16145.40011059, 21632.18801979,\n",
       "        5785.73999859, 31068.2969627 , -9348.69902103, -2285.62579598,\n",
       "       46290.41636098,  9796.71175127,  7893.4537941 ,  3573.90295035,\n",
       "       15816.40890683, 27440.83628411, 22652.12041362, 10286.50471527,\n",
       "       13520.16085776,  3309.0513158 ,  9655.31341385, 12081.99669096,\n",
       "       29844.51617759, 17691.3520367 , 11524.99983896,  6933.58462758,\n",
       "       16857.55510409, 10132.2787397 , 15626.96622718, 34549.93647047,\n",
       "       -9222.66053591, 13355.1595397 ,  5604.75274168, -7240.81923126,\n",
       "       16409.44456022, 11701.84149649,  4744.69523943, 29069.00505998,\n",
       "       24556.3733226 ,  6879.96082373,  6299.80892587,  3869.49547655,\n",
       "       -9877.90059901, 12979.59787939,  9471.63050651, 17245.37325185,\n",
       "        7884.08994526,  4206.16121074, 24398.05668349,  9121.17553731,\n",
       "       19898.45546046, -4981.85744498, 20953.94183377,  5226.96534045,\n",
       "       25703.39664197, 10753.79795395, 11556.03974764, 32795.44824318,\n",
       "        7842.14951616, 16149.76506673, 16518.89416901, 25593.59464846,\n",
       "        8670.00087158, 34251.0100394 , 31019.38990893, 11897.66336648,\n",
       "        -184.86685109, 15841.75143525, 14691.71245827, 20820.81880533,\n",
       "       31509.91314726, 22072.98720739, 27211.33457852, 20805.2087941 ,\n",
       "        8528.66571389, 13357.5973781 , -5627.36537954, 31188.19248862,\n",
       "       18143.44415288, 11545.78944744, 15973.33072976,  4010.16589548,\n",
       "        3491.74672754, 15262.10809912,  9290.86260635, -2927.21651227,\n",
       "       -6051.62454891, 35805.57376738,  5597.5981532 , 14777.49630054,\n",
       "       37471.4137684 ,  -501.40575355, 17086.75112413, 23091.96565747,\n",
       "       -5958.39436042, 19545.13885175,  -919.04479494,  5214.6074149 ,\n",
       "       34697.54231805,  8932.93971002, -3117.02766334, 16153.85553334,\n",
       "        2455.34180787, 17491.64434137, 31147.59390186,  7579.28052595,\n",
       "       11520.96470204,  8703.89319849, -2907.54703353, 24329.04183133,\n",
       "       19875.75325279, 19321.38200608, 24381.79625513,  8246.06445906,\n",
       "       16285.67066516,  4288.8110829 , 20829.27422807, 27089.39381929,\n",
       "       26761.50646163, 11356.52707848,  -513.46721485,  2351.87093429,\n",
       "        7313.13571025, 19337.21902718, 12233.18248141,  8293.43484126,\n",
       "        1671.89971904, 18183.04798476, 19312.55065572,  8558.31786875,\n",
       "       10052.99906878,  3428.97803775, -2749.66930485, 28118.62727608,\n",
       "        8935.87845704, -2478.59505082, -1429.57223464, 14205.73507753,\n",
       "       12961.01027201,  8235.00736778, 28767.43320781, 34442.83993945,\n",
       "       20059.82896215, 26752.43201469, 15969.85928734, 29695.1252646 ,\n",
       "       21167.9347693 ,  3787.32453827, 11709.6465021 , 13354.78361208,\n",
       "       20077.02881571, 25728.40189498, 17037.14754482, 10580.30275785,\n",
       "       10714.48352398,   414.40064305, 18983.51197231,  7700.50101981,\n",
       "       12096.95628505, -7029.81115115, 19488.54667303,  1161.34834259,\n",
       "        1864.20953239, 11870.39332648, 18794.43030788, 12755.41762645,\n",
       "        4345.06814515, 36810.81795779,  6343.70040945, 33525.58653533,\n",
       "        1858.25434008,  3314.25465288,  7329.39613861,  4865.26531616,\n",
       "       12234.48331568, 14374.26316771, 13137.26410136])"
      ]
     },
     "execution_count": 9,
     "metadata": {},
     "output_type": "execute_result"
    }
   ],
   "source": [
    "#Using predict to get predicted values of y\n",
    "y_pred = reg.predict(x_test)\n",
    "y_pred"
   ]
  },
  {
   "cell_type": "code",
   "execution_count": 10,
   "id": "undefined-lincoln",
   "metadata": {},
   "outputs": [
    {
     "data": {
      "text/plain": [
       "0.8651202476244613"
      ]
     },
     "execution_count": 10,
     "metadata": {},
     "output_type": "execute_result"
    }
   ],
   "source": [
    "#Calculating efficiency. It internally calculates y_pred again and gives the efficiency\n",
    "reg.score(x_test,y_test)"
   ]
  },
  {
   "cell_type": "code",
   "execution_count": 14,
   "id": "frequent-cookie",
   "metadata": {},
   "outputs": [
    {
     "data": {
      "image/png": "[encoded data removed]",
      "text/plain": [
       "<Figure size 576x576 with 1 Axes>"
      ]
     },
     "metadata": {
      "needs_background": "light"
     },
     "output_type": "display_data"
    }
   ],
   "source": [
    "#Plotting graph using matplotlib.\n",
    "plt.figure(figsize=(8,8))\n",
    "plt.plot(X,reg.predict(X),'*')\n",
    "plt.legend(labels=['cases','increasingrate','decreasingrate'])\n",
    "plt.xlabel(\"Cases Rate\")\n",
    "plt.ylabel(\"Time\")\n",
    "plt.show()"
   ]
  },
  {
   "cell_type": "code",
   "execution_count": null,
   "id": "worse-swiss",
   "metadata": {},
   "outputs": [],
   "source": []
  }
 ],
 "metadata": {
  "kernelspec": {
   "display_name": "Python 3",
   "language": "python",
   "name": "python3"
  },
  "language_info": {
   "codemirror_mode": {
    "name": "ipython",
    "version": 3
   },
   "file_extension": ".py",
   "mimetype": "text/x-python",
   "name": "python",
   "nbconvert_exporter": "python",
   "pygments_lexer": "ipython3",
   "version": "3.7.6"
  }
 },
 "nbformat": 4,
 "nbformat_minor": 5
}
